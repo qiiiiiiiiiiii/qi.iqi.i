{
  "nbformat": 4,
  "nbformat_minor": 0,
  "metadata": {
    "colab": {
      "name": "0523_陳娸琪_410606510.ipynb",
      "provenance": [],
      "authorship_tag": "ABX9TyPZlelqmMCswpGXzNLeyumI",
      "include_colab_link": true
    },
    "kernelspec": {
      "name": "python3",
      "display_name": "Python 3"
    },
    "language_info": {
      "name": "python"
    }
  },
  "cells": [
    {
      "cell_type": "markdown",
      "metadata": {
        "id": "view-in-github",
        "colab_type": "text"
      },
      "source": [
        "<a href=\"https://colab.research.google.com/github/qiiiiiiiiiiii/qi.iqi.i/blob/main/0523_%E9%99%B3%E5%A8%B8%E7%90%AA_410606510.ipynb\" target=\"_parent\"><img src=\"https://colab.research.google.com/assets/colab-badge.svg\" alt=\"Open In Colab\"/></a>"
      ]
    },
    {
      "cell_type": "code",
      "execution_count": null,
      "metadata": {
        "colab": {
          "base_uri": "https://localhost:8080/"
        },
        "id": "qhQHR59BqbXW",
        "outputId": "96a3db9d-8019-4d0d-d722-17e687d63a45"
      },
      "outputs": [
        {
          "output_type": "stream",
          "name": "stdout",
          "text": [
            "0523\n"
          ]
        }
      ],
      "source": [
        "print('0523')"
      ]
    },
    {
      "cell_type": "code",
      "source": [
        "sum = 0\n",
        "test = int(input('請輸入一個正整數：'))\n",
        "for n in range(1, test+1):\n",
        "    sum = sum + n\n",
        "print('1到',test,'的整數和為:', sum)\n"
      ],
      "metadata": {
        "id": "YtWgSDv5qvsn",
        "colab": {
          "base_uri": "https://localhost:8080/"
        },
        "outputId": "618e6a18-3346-4a7a-dd82-4422e815bce4"
      },
      "execution_count": 3,
      "outputs": [
        {
          "output_type": "stream",
          "name": "stdout",
          "text": [
            "請輸入一個正整數：50\n",
            "1到 50 的整數和為: 1275\n"
          ]
        }
      ]
    },
    {
      "cell_type": "code",
      "source": [
        "sum = 0\n",
        "test = int(input('請輸入一個正整數：'))\n",
        "for n in range(1, test+1):\n",
        "    sum = sum + n\n",
        "print('1到',test, '的整數和為：', sum)"
      ],
      "metadata": {
        "id": "1a6IGvY7qv43",
        "colab": {
          "base_uri": "https://localhost:8080/"
        },
        "outputId": "c1fe0abd-50ba-4964-ea86-e69f29daf377"
      },
      "execution_count": 7,
      "outputs": [
        {
          "output_type": "stream",
          "name": "stdout",
          "text": [
            "請輸入一個正整數：10\n",
            "1到 10 的整數和為： 55\n"
          ]
        }
      ]
    },
    {
      "cell_type": "code",
      "source": [
        "sum = 0\n",
        "test = int(input('請輸入一個正整數：'))\n",
        "for m in range(1, test+1):\n",
        "    sum = sum + m\n",
        "    print('1到', str(m), '的整數和為：', sum)"
      ],
      "metadata": {
        "id": "O5YPPTPpqwEf",
        "colab": {
          "base_uri": "https://localhost:8080/"
        },
        "outputId": "5f0922ec-e9a9-4fa3-b6b2-9a425245e5c3"
      },
      "execution_count": 9,
      "outputs": [
        {
          "output_type": "stream",
          "name": "stdout",
          "text": [
            "請輸入一個正整數：50\n",
            "1到 1 的整數和為： 1\n",
            "1到 2 的整數和為： 3\n",
            "1到 3 的整數和為： 6\n",
            "1到 4 的整數和為： 10\n",
            "1到 5 的整數和為： 15\n",
            "1到 6 的整數和為： 21\n",
            "1到 7 的整數和為： 28\n",
            "1到 8 的整數和為： 36\n",
            "1到 9 的整數和為： 45\n",
            "1到 10 的整數和為： 55\n",
            "1到 11 的整數和為： 66\n",
            "1到 12 的整數和為： 78\n",
            "1到 13 的整數和為： 91\n",
            "1到 14 的整數和為： 105\n",
            "1到 15 的整數和為： 120\n",
            "1到 16 的整數和為： 136\n",
            "1到 17 的整數和為： 153\n",
            "1到 18 的整數和為： 171\n",
            "1到 19 的整數和為： 190\n",
            "1到 20 的整數和為： 210\n",
            "1到 21 的整數和為： 231\n",
            "1到 22 的整數和為： 253\n",
            "1到 23 的整數和為： 276\n",
            "1到 24 的整數和為： 300\n",
            "1到 25 的整數和為： 325\n",
            "1到 26 的整數和為： 351\n",
            "1到 27 的整數和為： 378\n",
            "1到 28 的整數和為： 406\n",
            "1到 29 的整數和為： 435\n",
            "1到 30 的整數和為： 465\n",
            "1到 31 的整數和為： 496\n",
            "1到 32 的整數和為： 528\n",
            "1到 33 的整數和為： 561\n",
            "1到 34 的整數和為： 595\n",
            "1到 35 的整數和為： 630\n",
            "1到 36 的整數和為： 666\n",
            "1到 37 的整數和為： 703\n",
            "1到 38 的整數和為： 741\n",
            "1到 39 的整數和為： 780\n",
            "1到 40 的整數和為： 820\n",
            "1到 41 的整數和為： 861\n",
            "1到 42 的整數和為： 903\n",
            "1到 43 的整數和為： 946\n",
            "1到 44 的整數和為： 990\n",
            "1到 45 的整數和為： 1035\n",
            "1到 46 的整數和為： 1081\n",
            "1到 47 的整數和為： 1128\n",
            "1到 48 的整數和為： 1176\n",
            "1到 49 的整數和為： 1225\n",
            "1到 50 的整數和為： 1275\n"
          ]
        }
      ]
    },
    {
      "cell_type": "code",
      "source": [
        "for j in range(1, 5):\n",
        "    print(j)\n",
        "    for i in range(1, 3):\n",
        "        k = j * i\n",
        "        print(j, '*', i, '=', k)"
      ],
      "metadata": {
        "id": "D9bQpeMjqwMn",
        "colab": {
          "base_uri": "https://localhost:8080/"
        },
        "outputId": "c67c0089-f695-4b79-bcbd-3887abd9b9f1"
      },
      "execution_count": 12,
      "outputs": [
        {
          "output_type": "stream",
          "name": "stdout",
          "text": [
            "1\n",
            "1 * 1 = 1\n",
            "1 * 2 = 2\n",
            "2\n",
            "2 * 1 = 2\n",
            "2 * 2 = 4\n",
            "3\n",
            "3 * 1 = 3\n",
            "3 * 2 = 6\n",
            "4\n",
            "4 * 1 = 4\n",
            "4 * 2 = 8\n"
          ]
        }
      ]
    },
    {
      "cell_type": "code",
      "source": [
        "for p in range(1, 6):\n",
        "    print(p)\n",
        "    for q in range(1, 3):\n",
        "        r = p * q\n",
        "        print(p, '*', q, '=', r)"
      ],
      "metadata": {
        "id": "baaZVrraqwUT",
        "colab": {
          "base_uri": "https://localhost:8080/"
        },
        "outputId": "cf37c5b9-904a-44d7-a0ad-e8645d29fa9b"
      },
      "execution_count": 13,
      "outputs": [
        {
          "output_type": "stream",
          "name": "stdout",
          "text": [
            "1\n",
            "1 * 1 = 1\n",
            "1 * 2 = 2\n",
            "2\n",
            "2 * 1 = 2\n",
            "2 * 2 = 4\n",
            "3\n",
            "3 * 1 = 3\n",
            "3 * 2 = 6\n",
            "4\n",
            "4 * 1 = 4\n",
            "4 * 2 = 8\n",
            "5\n",
            "5 * 1 = 5\n",
            "5 * 2 = 10\n"
          ]
        }
      ]
    },
    {
      "cell_type": "code",
      "source": [
        "for s in range(1, 10):\n",
        "    for t in range(1, 10):\n",
        "        print(f'{t} * {s} = {s * t}', end = '\\t')\n",
        "    print()"
      ],
      "metadata": {
        "id": "fPxy3bdHqwbc",
        "colab": {
          "base_uri": "https://localhost:8080/"
        },
        "outputId": "c2fd7982-867c-4f06-eaf4-1d4aeeb48466"
      },
      "execution_count": 15,
      "outputs": [
        {
          "output_type": "stream",
          "name": "stdout",
          "text": [
            "1 * 1 = 1\t2 * 1 = 2\t3 * 1 = 3\t4 * 1 = 4\t5 * 1 = 5\t6 * 1 = 6\t7 * 1 = 7\t8 * 1 = 8\t9 * 1 = 9\t\n",
            "1 * 2 = 2\t2 * 2 = 4\t3 * 2 = 6\t4 * 2 = 8\t5 * 2 = 10\t6 * 2 = 12\t7 * 2 = 14\t8 * 2 = 16\t9 * 2 = 18\t\n",
            "1 * 3 = 3\t2 * 3 = 6\t3 * 3 = 9\t4 * 3 = 12\t5 * 3 = 15\t6 * 3 = 18\t7 * 3 = 21\t8 * 3 = 24\t9 * 3 = 27\t\n",
            "1 * 4 = 4\t2 * 4 = 8\t3 * 4 = 12\t4 * 4 = 16\t5 * 4 = 20\t6 * 4 = 24\t7 * 4 = 28\t8 * 4 = 32\t9 * 4 = 36\t\n",
            "1 * 5 = 5\t2 * 5 = 10\t3 * 5 = 15\t4 * 5 = 20\t5 * 5 = 25\t6 * 5 = 30\t7 * 5 = 35\t8 * 5 = 40\t9 * 5 = 45\t\n",
            "1 * 6 = 6\t2 * 6 = 12\t3 * 6 = 18\t4 * 6 = 24\t5 * 6 = 30\t6 * 6 = 36\t7 * 6 = 42\t8 * 6 = 48\t9 * 6 = 54\t\n",
            "1 * 7 = 7\t2 * 7 = 14\t3 * 7 = 21\t4 * 7 = 28\t5 * 7 = 35\t6 * 7 = 42\t7 * 7 = 49\t8 * 7 = 56\t9 * 7 = 63\t\n",
            "1 * 8 = 8\t2 * 8 = 16\t3 * 8 = 24\t4 * 8 = 32\t5 * 8 = 40\t6 * 8 = 48\t7 * 8 = 56\t8 * 8 = 64\t9 * 8 = 72\t\n",
            "1 * 9 = 9\t2 * 9 = 18\t3 * 9 = 27\t4 * 9 = 36\t5 * 9 = 45\t6 * 9 = 54\t7 * 9 = 63\t8 * 9 = 72\t9 * 9 = 81\t\n"
          ]
        }
      ]
    },
    {
      "cell_type": "code",
      "source": [
        "for i in range(1, 5):\n",
        "    if i ==4:\n",
        "        break\n",
        "    print(i, end = ' ')"
      ],
      "metadata": {
        "id": "1RX-J88Hqwe3",
        "colab": {
          "base_uri": "https://localhost:8080/"
        },
        "outputId": "2f162a94-8aed-4fb4-f2d3-bd35952481a4"
      },
      "execution_count": 19,
      "outputs": [
        {
          "output_type": "stream",
          "name": "stdout",
          "text": [
            "1 2 3 "
          ]
        }
      ]
    },
    {
      "cell_type": "code",
      "source": [
        "count = 0\n",
        "for string in '測試看看！':\n",
        "    count+=1\n",
        "    if string == '看':\n",
        "        break\n",
        "    print(string)\n",
        "print('迴圈結束')\n",
        "print('迴圈執行了 %d 次' %count)"
      ],
      "metadata": {
        "id": "7BD3TN_oqwku",
        "colab": {
          "base_uri": "https://localhost:8080/"
        },
        "outputId": "f8ded068-4c31-4059-d198-bcf1e6f17d1b"
      },
      "execution_count": 37,
      "outputs": [
        {
          "output_type": "stream",
          "name": "stdout",
          "text": [
            "測\n",
            "試\n",
            "迴圈結束\n",
            "迴圈執行了 3 次\n"
          ]
        }
      ]
    },
    {
      "cell_type": "code",
      "source": [
        "a = int(input('請輸入a的值：'))\n",
        "b = int(input('請輸入b的值：'))\n",
        "max= 0\n",
        "for c in range(1, a * b + 1):\n",
        "    if (c%a==0 and c%b==0):\n",
        "        max = c\n",
        "        break\n",
        "print(max)\n"
      ],
      "metadata": {
        "id": "3Z_aXRLBqwuN",
        "colab": {
          "base_uri": "https://localhost:8080/"
        },
        "outputId": "cf32ca5b-4c3e-49d6-96de-e4b4209b4a08"
      },
      "execution_count": 59,
      "outputs": [
        {
          "output_type": "stream",
          "name": "stdout",
          "text": [
            "請輸入a的值：4\n",
            "請輸入b的值：6\n",
            "12\n"
          ]
        }
      ]
    },
    {
      "cell_type": "code",
      "source": [
        "d = int(input('請輸入d的值：'))\n",
        "e = int(input('請輸入e的值：'))\n",
        "max = 0\n",
        "for f in range(1, d * e +1):\n",
        "    if (f%d==0 and f%e==0):\n",
        "        max = f\n",
        "        break\n",
        "print(max)"
      ],
      "metadata": {
        "colab": {
          "base_uri": "https://localhost:8080/"
        },
        "id": "oaPiQHUdFLaW",
        "outputId": "a7bea212-8ce6-4948-88f5-68f488779f82"
      },
      "execution_count": 61,
      "outputs": [
        {
          "output_type": "stream",
          "name": "stdout",
          "text": [
            "請輸入d的值：9\n",
            "請輸入e的值：15\n",
            "45\n"
          ]
        }
      ]
    },
    {
      "cell_type": "code",
      "source": [
        "number = int(input('請輸入正整數：'))\n",
        "for a in range(1, number + 1):\n",
        "    if (a%5==0):\n",
        "        continue \n",
        "        print(a, end = ' ')\n",
        "    print(a, end = ' ')"
      ],
      "metadata": {
        "colab": {
          "base_uri": "https://localhost:8080/"
        },
        "id": "6zgJoZaWF52R",
        "outputId": "74cd436f-3c33-490f-ad5c-208ac5967e92"
      },
      "execution_count": 80,
      "outputs": [
        {
          "output_type": "stream",
          "name": "stdout",
          "text": [
            "請輸入正整數：12\n",
            "1 2 3 4 6 7 8 9 11 12 "
          ]
        }
      ]
    },
    {
      "cell_type": "code",
      "source": [
        "number = int(input('請輸入正整數：'))\n",
        "for a in range(1, number + 1):\n",
        "    if (a%5==0):\n",
        "        continue\n",
        "        print(a, end = ' ')\n",
        "        if a == 19:\n",
        "            break\n",
        "    print(a, end = ' ')\n"
      ],
      "metadata": {
        "colab": {
          "base_uri": "https://localhost:8080/"
        },
        "id": "JSFPu46JGkss",
        "outputId": "8187563f-602e-4bca-e738-b57cc6c4ddde"
      },
      "execution_count": 83,
      "outputs": [
        {
          "output_type": "stream",
          "name": "stdout",
          "text": [
            "請輸入正整數：21\n",
            "1 2 3 4 6 7 8 9 11 12 13 14 16 17 18 19 21 "
          ]
        }
      ]
    }
  ]
}