{
  "nbformat": 4,
  "nbformat_minor": 0,
  "metadata": {
    "colab": {
      "name": "0516 陳娸琪 410606510.ipynb",
      "provenance": [],
      "authorship_tag": "ABX9TyOI9oWGzN6Y1oTMqC7tXVhG",
      "include_colab_link": true
    },
    "kernelspec": {
      "name": "python3",
      "display_name": "Python 3"
    },
    "language_info": {
      "name": "python"
    }
  },
  "cells": [
    {
      "cell_type": "markdown",
      "metadata": {
        "id": "view-in-github",
        "colab_type": "text"
      },
      "source": [
        "<a href=\"https://colab.research.google.com/github/qiiiiiiiiiiii/qi.iqi.i/blob/main/0516_%E9%99%B3%E5%A8%B8%E7%90%AA_410606510.ipynb\" target=\"_parent\"><img src=\"https://colab.research.google.com/assets/colab-badge.svg\" alt=\"Open In Colab\"/></a>"
      ]
    },
    {
      "cell_type": "code",
      "execution_count": null,
      "metadata": {
        "colab": {
          "base_uri": "https://localhost:8080/"
        },
        "id": "pq30q13H8EUT",
        "outputId": "d77178f9-6e61-4963-986e-7f2beacd220d"
      },
      "outputs": [
        {
          "output_type": "stream",
          "name": "stdout",
          "text": [
            "123\n"
          ]
        }
      ],
      "source": [
        "print('123')"
      ]
    },
    {
      "cell_type": "code",
      "source": [
        "i = range(5)"
      ],
      "metadata": {
        "id": "sYd2FgXM8bjK"
      },
      "execution_count": null,
      "outputs": []
    },
    {
      "cell_type": "code",
      "source": [
        "print(type(i))"
      ],
      "metadata": {
        "colab": {
          "base_uri": "https://localhost:8080/"
        },
        "id": "2ZGF66Ye8hhU",
        "outputId": "fbd2645f-29ff-4f97-ccf4-828bc259a540"
      },
      "execution_count": null,
      "outputs": [
        {
          "output_type": "stream",
          "name": "stdout",
          "text": [
            "<class 'range'>\n"
          ]
        }
      ]
    },
    {
      "cell_type": "code",
      "source": [
        "print(i)"
      ],
      "metadata": {
        "colab": {
          "base_uri": "https://localhost:8080/"
        },
        "id": "P5MKFn6x8lym",
        "outputId": "b69bde34-e1f8-4784-ae70-04c7c609e675"
      },
      "execution_count": null,
      "outputs": [
        {
          "output_type": "stream",
          "name": "stdout",
          "text": [
            "range(0, 5)\n"
          ]
        }
      ]
    },
    {
      "cell_type": "code",
      "source": [
        "print(list(i))"
      ],
      "metadata": {
        "colab": {
          "base_uri": "https://localhost:8080/"
        },
        "id": "aVzoDhYH8oxv",
        "outputId": "87daa56a-1072-4174-ffd6-592e5154cbdc"
      },
      "execution_count": null,
      "outputs": [
        {
          "output_type": "stream",
          "name": "stdout",
          "text": [
            "[0, 1, 2, 3, 4]\n"
          ]
        }
      ]
    },
    {
      "cell_type": "code",
      "source": [
        "a = range(3, 8)\n",
        "print(list(a))"
      ],
      "metadata": {
        "id": "rHWnlgkF8o-F",
        "colab": {
          "base_uri": "https://localhost:8080/"
        },
        "outputId": "897e5fc1-0ad8-450d-c56f-f1992a1b607a"
      },
      "execution_count": null,
      "outputs": [
        {
          "output_type": "stream",
          "name": "stdout",
          "text": [
            "[3, 4, 5, 6, 7]\n"
          ]
        }
      ]
    },
    {
      "cell_type": "code",
      "source": [
        "b = range(-2, 4)\n",
        "print(list(b))\n",
        "\n",
        "#不可以是小數"
      ],
      "metadata": {
        "id": "FI-xXbc18pLL",
        "colab": {
          "base_uri": "https://localhost:8080/"
        },
        "outputId": "561313a2-a1a0-42fc-b284-1fa0b6a35576"
      },
      "execution_count": null,
      "outputs": [
        {
          "output_type": "stream",
          "name": "stdout",
          "text": [
            "[-2, -1, 0, 1, 2, 3]\n"
          ]
        }
      ]
    },
    {
      "cell_type": "code",
      "source": [
        "c = range(3, 8, 1)\n",
        "print(list(c))"
      ],
      "metadata": {
        "id": "dDY3gUeB8pVD",
        "colab": {
          "base_uri": "https://localhost:8080/"
        },
        "outputId": "0db464b7-24ba-4957-c8ce-0991b7fb31a0"
      },
      "execution_count": null,
      "outputs": [
        {
          "output_type": "stream",
          "name": "stdout",
          "text": [
            "[3, 4, 5, 6, 7]\n"
          ]
        }
      ]
    },
    {
      "cell_type": "code",
      "source": [
        "d = range(3, 8, 2)\n",
        "print(list(d))"
      ],
      "metadata": {
        "id": "2YjhZXx98pfL",
        "colab": {
          "base_uri": "https://localhost:8080/"
        },
        "outputId": "faebb9f5-8e3d-41df-a1e3-53eff7d0ac6f"
      },
      "execution_count": null,
      "outputs": [
        {
          "output_type": "stream",
          "name": "stdout",
          "text": [
            "[3, 5, 7]\n"
          ]
        }
      ]
    },
    {
      "cell_type": "code",
      "source": [
        "e = range(8, 3, -1)\n",
        "print(list(e))"
      ],
      "metadata": {
        "id": "WW_JrzrD8pxC",
        "colab": {
          "base_uri": "https://localhost:8080/"
        },
        "outputId": "e027dc1a-093c-47d4-a0c8-0b2f777262f1"
      },
      "execution_count": null,
      "outputs": [
        {
          "output_type": "stream",
          "name": "stdout",
          "text": [
            "[8, 7, 6, 5, 4]\n"
          ]
        }
      ]
    },
    {
      "cell_type": "code",
      "source": [
        "f = range(0, 9, 1)\n",
        "print(list(f))\n",
        "\n",
        "#f = range(9)\n",
        "#print(list(f))"
      ],
      "metadata": {
        "id": "8VxctDnE8qDz",
        "colab": {
          "base_uri": "https://localhost:8080/"
        },
        "outputId": "6087b285-412b-4359-a871-db853e5d360d"
      },
      "execution_count": null,
      "outputs": [
        {
          "output_type": "stream",
          "name": "stdout",
          "text": [
            "[0, 1, 2, 3, 4, 5, 6, 7, 8]\n"
          ]
        }
      ]
    },
    {
      "cell_type": "code",
      "source": [
        "g = range(1, 10, 1)\n",
        "print(list(g))"
      ],
      "metadata": {
        "colab": {
          "base_uri": "https://localhost:8080/"
        },
        "id": "pp4y9mDhAwGT",
        "outputId": "dd8f96c0-f752-4e82-ba3e-7f266f7200a2"
      },
      "execution_count": null,
      "outputs": [
        {
          "output_type": "stream",
          "name": "stdout",
          "text": [
            "[1, 2, 3, 4, 5, 6, 7, 8, 9]\n"
          ]
        }
      ]
    },
    {
      "cell_type": "code",
      "source": [
        "h = range(1, 10, 2)\n",
        "print(list(h))"
      ],
      "metadata": {
        "colab": {
          "base_uri": "https://localhost:8080/"
        },
        "id": "RVteDOndAxzB",
        "outputId": "217551b9-0796-406c-e436-578d3bf31d27"
      },
      "execution_count": null,
      "outputs": [
        {
          "output_type": "stream",
          "name": "stdout",
          "text": [
            "[1, 3, 5, 7, 9]\n"
          ]
        }
      ]
    },
    {
      "cell_type": "code",
      "source": [
        "i = range(10, 1, -2)\n",
        "print(list(i))"
      ],
      "metadata": {
        "colab": {
          "base_uri": "https://localhost:8080/"
        },
        "id": "Qqg9067NAx_K",
        "outputId": "e1c70ce0-249d-4994-db38-4632751ce521"
      },
      "execution_count": null,
      "outputs": [
        {
          "output_type": "stream",
          "name": "stdout",
          "text": [
            "[10, 8, 6, 4, 2]\n"
          ]
        }
      ]
    },
    {
      "cell_type": "code",
      "source": [
        "for n in range(3):\n",
        "    print(n)"
      ],
      "metadata": {
        "colab": {
          "base_uri": "https://localhost:8080/"
        },
        "id": "PV-5iNEyAyKt",
        "outputId": "1687836b-b46d-4322-cd72-15820bd0e1fa"
      },
      "execution_count": null,
      "outputs": [
        {
          "output_type": "stream",
          "name": "stdout",
          "text": [
            "0\n",
            "1\n",
            "2\n"
          ]
        }
      ]
    },
    {
      "cell_type": "code",
      "source": [
        "for n in range(10):\n",
        "    print(n, end = ',')"
      ],
      "metadata": {
        "colab": {
          "base_uri": "https://localhost:8080/"
        },
        "id": "CTmKmiFVCWNv",
        "outputId": "7008c5ba-89af-4c6c-a3a5-569a1358c80a"
      },
      "execution_count": null,
      "outputs": [
        {
          "output_type": "stream",
          "name": "stdout",
          "text": [
            "0,1,2,3,4,5,6,7,8,9,"
          ]
        }
      ]
    },
    {
      "cell_type": "code",
      "source": [
        "for n in range(0, 10, 2):\n",
        "    print(n, end = ',')"
      ],
      "metadata": {
        "colab": {
          "base_uri": "https://localhost:8080/"
        },
        "id": "yoMC-xteAyU6",
        "outputId": "a1568fd0-44e5-4088-e41b-3f05b0ba69a1"
      },
      "execution_count": null,
      "outputs": [
        {
          "output_type": "stream",
          "name": "stdout",
          "text": [
            "0,2,4,6,8,"
          ]
        }
      ]
    },
    {
      "cell_type": "code",
      "source": [
        "n = int(input('請輸入一個正整數：'))\n",
        "for m in range(1, n+1):\n",
        "    print(m, end = ' ')"
      ],
      "metadata": {
        "id": "w3BPZ-PfDk16",
        "colab": {
          "base_uri": "https://localhost:8080/"
        },
        "outputId": "6d8b01cc-0b0e-4d10-87e8-707d4ac75cf4"
      },
      "execution_count": null,
      "outputs": [
        {
          "output_type": "stream",
          "name": "stdout",
          "text": [
            "請輸入一個正整數：5\n",
            "1 2 3 4 5 "
          ]
        }
      ]
    },
    {
      "cell_type": "code",
      "source": [
        "n = int(input('請輸入一個正整數：'))\n",
        "for m in range(1, n+1):\n",
        "    print(m, end = ' ')"
      ],
      "metadata": {
        "id": "HR6JagZvDlA4",
        "colab": {
          "base_uri": "https://localhost:8080/"
        },
        "outputId": "74a3b219-68a5-4bd0-e5b8-66d4400871f0"
      },
      "execution_count": null,
      "outputs": [
        {
          "output_type": "stream",
          "name": "stdout",
          "text": [
            "請輸入一個正整數：12\n",
            "1 2 3 4 5 6 7 8 9 10 11 12 "
          ]
        }
      ]
    },
    {
      "cell_type": "code",
      "source": [
        "#加總\n",
        "\n",
        "sum = 0\n",
        "for n in range(3):\n",
        "    sum = sum + n\n",
        "print(sum)"
      ],
      "metadata": {
        "id": "2MlZpdOzDlLl",
        "colab": {
          "base_uri": "https://localhost:8080/"
        },
        "outputId": "420c974f-ce34-44ca-8c37-1937fed9d8d9"
      },
      "execution_count": null,
      "outputs": [
        {
          "output_type": "stream",
          "name": "stdout",
          "text": [
            "3\n"
          ]
        }
      ]
    },
    {
      "cell_type": "code",
      "source": [
        "sum = 0\n",
        "for n in range(10, 1, -2):\n",
        "  sum = sum + n\n",
        "print(sum)"
      ],
      "metadata": {
        "id": "LEjalrFzDlU-",
        "colab": {
          "base_uri": "https://localhost:8080/"
        },
        "outputId": "a33225fe-e94b-446f-fe1a-5cabed6e57ff"
      },
      "execution_count": null,
      "outputs": [
        {
          "output_type": "stream",
          "name": "stdout",
          "text": [
            "30\n"
          ]
        }
      ]
    },
    {
      "cell_type": "code",
      "source": [
        "sum = 0\n",
        "l = int(input('請輸入一個正整數：'))\n",
        "for n in range(1, l+1, 1):\n",
        "    sum = sum + n\n",
        "print(sum)\n",
        "\n",
        "sum = 0\n",
        "q = int(input('請輸入一個正整數：'))\n",
        "for n in range(1, q+1, 1):\n",
        "    sum = sum + n\n",
        "print(sum)"
      ],
      "metadata": {
        "id": "HnRejNxUAyix",
        "colab": {
          "base_uri": "https://localhost:8080/"
        },
        "outputId": "9eb2fc54-646a-4e36-be67-262ff5c9e753"
      },
      "execution_count": null,
      "outputs": [
        {
          "output_type": "stream",
          "name": "stdout",
          "text": [
            "請輸入一個正整數：10\n",
            "55\n",
            "請輸入一個正整數：50\n",
            "1275\n"
          ]
        }
      ]
    },
    {
      "cell_type": "code",
      "source": [
        "sum = 0\n",
        "w = int(input('請輸入一個正整數：'))\n",
        "for t in range(1, w+1, 1):\n",
        "    sum = sum + t\n",
        "    print('1到', t, '的整數和為：', sum )\n"
      ],
      "metadata": {
        "colab": {
          "base_uri": "https://localhost:8080/"
        },
        "id": "P2opKTKZMqjb",
        "outputId": "255f5468-a37b-43b3-dc2e-c5e8951957c1"
      },
      "execution_count": 101,
      "outputs": [
        {
          "output_type": "stream",
          "name": "stdout",
          "text": [
            "請輸入一個正整數：10\n",
            "1到 1 的整數和為： 1\n",
            "1到 2 的整數和為： 3\n",
            "1到 3 的整數和為： 6\n",
            "1到 4 的整數和為： 10\n",
            "1到 5 的整數和為： 15\n",
            "1到 6 的整數和為： 21\n",
            "1到 7 的整數和為： 28\n",
            "1到 8 的整數和為： 36\n",
            "1到 9 的整數和為： 45\n",
            "1到 10 的整數和為： 55\n"
          ]
        }
      ]
    }
  ]
}