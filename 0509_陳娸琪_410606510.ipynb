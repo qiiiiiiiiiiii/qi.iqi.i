{
  "nbformat": 4,
  "nbformat_minor": 0,
  "metadata": {
    "colab": {
      "name": "0509_陳娸琪_410606510.ipynb",
      "provenance": [],
      "authorship_tag": "ABX9TyM0vFVxMPszNrezfnIlpMX2",
      "include_colab_link": true
    },
    "kernelspec": {
      "name": "python3",
      "display_name": "Python 3"
    },
    "language_info": {
      "name": "python"
    }
  },
  "cells": [
    {
      "cell_type": "markdown",
      "metadata": {
        "id": "view-in-github",
        "colab_type": "text"
      },
      "source": [
        "<a href=\"https://colab.research.google.com/github/qiiiiiiiiiiii/qi.iqi.i/blob/main/0509_%E9%99%B3%E5%A8%B8%E7%90%AA_410606510.ipynb\" target=\"_parent\"><img src=\"https://colab.research.google.com/assets/colab-badge.svg\" alt=\"Open In Colab\"/></a>"
      ]
    },
    {
      "cell_type": "code",
      "source": [
        "temp = float(input('請輸入你的體溫：'))\n",
        "if temp >= 37.5:\n",
        "   print('體溫過高！')\n",
        "\n",
        "elif temp >= 37 and temp < 37.4:\n",
        "   print('體溫偏高～')\n",
        "  \n",
        "elif temp >=34 and temp <= 36.9:\n",
        "   print('體溫正常！')\n",
        "\n",
        "else:\n",
        "   print('體溫異常，請重新量測。')"
      ],
      "metadata": {
        "colab": {
          "base_uri": "https://localhost:8080/"
        },
        "id": "3xDDW645855w",
        "outputId": "1a43b48f-35bd-41ca-e876-99f7b397fa92"
      },
      "execution_count": 17,
      "outputs": [
        {
          "output_type": "stream",
          "name": "stdout",
          "text": [
            "請輸入你的體溫：33\n",
            "體溫異常，請重新量測。\n"
          ]
        }
      ]
    },
    {
      "cell_type": "code",
      "source": [
        "score = int(input('請輸入成績：'))\n",
        "if score >= 90:\n",
        "    print('A')\n",
        "\n",
        "elif score >= 80 and score <= 89:\n",
        "    print('B')\n",
        "\n",
        "elif score >= 70 and score <= 79:\n",
        "    print('C')\n",
        "\n",
        "elif score >= 60 and score <= 69:\n",
        "    print('D')\n",
        "\n",
        "else:\n",
        "    print('E')"
      ],
      "metadata": {
        "colab": {
          "base_uri": "https://localhost:8080/"
        },
        "id": "txY5tloy9k53",
        "outputId": "32894959-c001-4deb-c794-09c2dd327023"
      },
      "execution_count": 20,
      "outputs": [
        {
          "output_type": "stream",
          "name": "stdout",
          "text": [
            "請輸入成績：50\n",
            "E\n"
          ]
        }
      ]
    },
    {
      "cell_type": "code",
      "source": [
        "money = int(input('請輸入購物金額：'))\n",
        "if money >= 10000:\n",
        "    if (money >= 100000):\n",
        "      print('八折', money * 0.8, end = '元\\n')\n",
        "    elif (money >= 50000):\n",
        "      print('八五折', money * 0.85, end = '元\\n')\n",
        "    elif (money >= 10000):\n",
        "      print('九折', money * 0.9, end = '元\\n')\n",
        "    else:\n",
        "      print('九五折', money * 0.95, end = '元\\n')\n",
        "\n",
        "else:\n",
        "    print('沒打折', money, end = '元\\n')\n"
      ],
      "metadata": {
        "colab": {
          "base_uri": "https://localhost:8080/"
        },
        "id": "xjlo3p3fE6NN",
        "outputId": "16e81a4b-a580-44ad-8aa5-bd1a23e1ee7f"
      },
      "execution_count": 24,
      "outputs": [
        {
          "output_type": "stream",
          "name": "stdout",
          "text": [
            "請輸入購物金額：5000\n",
            "沒打折 5000元\n"
          ]
        }
      ]
    },
    {
      "cell_type": "code",
      "source": [
        "month = int(input('請輸入月份：'))\n",
        "if (month >=1 and month <= 12):\n",
        "    if (month >= 3 and month<=5):\n",
        "      print(month, '是春天！')\n",
        "    elif (month >= 6 and month <= 8):\n",
        "      print(month, '是夏天！')\n",
        "    elif (month >= 9 and month <=11):\n",
        "      print(month, '是秋天！')\n",
        "    else:\n",
        "      print(month, '是冬天！')\n",
        "else:\n",
        "    print('月份不在範圍內！')\n",
        "  "
      ],
      "metadata": {
        "colab": {
          "base_uri": "https://localhost:8080/"
        },
        "id": "JX_6gVoiI4y-",
        "outputId": "bb728774-272b-4353-af7a-336dc9d342c6"
      },
      "execution_count": 25,
      "outputs": [
        {
          "output_type": "stream",
          "name": "stdout",
          "text": [
            "請輸入月份：15\n",
            "月份不在範圍內！\n"
          ]
        }
      ]
    },
    {
      "cell_type": "code",
      "source": [
        "income = int(input('請輸入收入：'))\n",
        "if (income > 100000):\n",
        "    if (income >= 2000000):\n",
        "      print('付稅金額：', income * 0.3, end = '元\\n')\n",
        "    elif (income >= 1000000):\n",
        "      print('付稅金額：', income * 0.21, end = '元\\n')\n",
        "    elif (income >= 600000):\n",
        "      print('付稅金額：', income * 0.13, end = '元\\n')\n",
        "    else:\n",
        "      print('付稅金額：', income * 0.06, end = '元\\n')\n",
        "else:\n",
        "    print('付稅金額：', income * 0, end = '元\\n')"
      ],
      "metadata": {
        "colab": {
          "base_uri": "https://localhost:8080/"
        },
        "id": "PD2iZPvBKl8n",
        "outputId": "ed962ba5-f06c-4f9e-f323-91563538d2d8"
      },
      "execution_count": 27,
      "outputs": [
        {
          "output_type": "stream",
          "name": "stdout",
          "text": [
            "請輸入收入：2000000\n",
            "付稅金額： 600000.0元\n"
          ]
        }
      ]
    }
  ]
}